{
 "cells": [
  {
   "cell_type": "code",
   "execution_count": 5,
   "metadata": {},
   "outputs": [
    {
     "name": "stdout",
     "output_type": "stream",
     "text": [
      "Validation Accuracy: 0.8860149922440081\n",
      "Submission file created successfully!\n"
     ]
    }
   ],
   "source": [
    "import pandas as pd\n",
    "from sklearn.model_selection import train_test_split\n",
    "from sklearn.preprocessing import LabelEncoder, OneHotEncoder\n",
    "from sklearn.impute import SimpleImputer\n",
    "from sklearn.linear_model import LogisticRegression\n",
    "from sklearn.metrics import accuracy_score\n",
    "from scipy.sparse import hstack\n",
    "\n",
    "# Load the datasets\n",
    "train_df = pd.read_csv(r'C:\\Users\\Ahmed Ashraf\\Desktop\\archive (3)\\playground-series-s4e8\\train.csv')\n",
    "test_df = pd.read_csv(r'C:\\Users\\Ahmed Ashraf\\Desktop\\archive (3)\\playground-series-s4e8\\test.csv')\n",
    "\n",
    "# Separate features and target\n",
    "X = train_df.drop(columns=['class', 'id'])\n",
    "y = train_df['class']\n",
    "\n",
    "# Encode the target\n",
    "le = LabelEncoder()\n",
    "y = le.fit_transform(y)  # 'e' becomes 0 and 'p' becomes 1\n",
    "\n",
    "# Handle missing values by imputing with the most frequent value\n",
    "imputer = SimpleImputer(strategy='most_frequent')\n",
    "X = imputer.fit_transform(X)\n",
    "X_test = imputer.transform(test_df.drop(columns=['id']))\n",
    "\n",
    "# One-hot encode the categorical variables and convert to sparse matrix\n",
    "encoder = OneHotEncoder(sparse_output=True, handle_unknown='ignore')\n",
    "X_encoded = encoder.fit_transform(X)\n",
    "X_test_encoded = encoder.transform(X_test)\n",
    "\n",
    "# Split the training data into a train and validation set\n",
    "X_train, X_val, y_train, y_val = train_test_split(X_encoded, y, test_size=0.2, random_state=42)\n",
    "\n",
    "# Train a simple Logistic Regression model using sparse data\n",
    "model = LogisticRegression(max_iter=1000)\n",
    "model.fit(X_train, y_train)\n",
    "\n",
    "# Validate the model\n",
    "y_val_pred = model.predict(X_val)\n",
    "print(f'Validation Accuracy: {accuracy_score(y_val, y_val_pred)}')\n",
    "\n",
    "# Make predictions on the test set\n",
    "test_predictions = model.predict(X_test_encoded)\n",
    "\n",
    "# Convert predictions back to original labels\n",
    "test_predictions = le.inverse_transform(test_predictions)\n",
    "\n",
    "# Prepare the submission file\n",
    "submission_df = pd.DataFrame({'id': test_df['id'], 'class': test_predictions})\n",
    "submission_df.to_csv(r'C:\\Users\\Ahmed Ashraf\\Desktop\\submission.csv', index=False)\n",
    "\n",
    "print(\"Submission file created successfully!\")\n"
   ]
  },
  {
   "cell_type": "code",
   "execution_count": null,
   "metadata": {},
   "outputs": [],
   "source": []
  }
 ],
 "metadata": {
  "kernelspec": {
   "display_name": "Python 3",
   "language": "python",
   "name": "python3"
  },
  "language_info": {
   "codemirror_mode": {
    "name": "ipython",
    "version": 3
   },
   "file_extension": ".py",
   "mimetype": "text/x-python",
   "name": "python",
   "nbconvert_exporter": "python",
   "pygments_lexer": "ipython3",
   "version": "3.12.0"
  }
 },
 "nbformat": 4,
 "nbformat_minor": 2
}
