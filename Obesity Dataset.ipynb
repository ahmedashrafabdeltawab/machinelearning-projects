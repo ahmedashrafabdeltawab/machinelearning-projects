{
 "cells": [
  {
   "cell_type": "markdown",
   "metadata": {},
   "source": [
    "# Import necessary libraries\n"
   ]
  },
  {
   "cell_type": "code",
   "execution_count": 21,
   "metadata": {},
   "outputs": [],
   "source": [
    "import pandas as pd\n",
    "from scipy.io import arff\n",
    "from sklearn.model_selection import train_test_split\n",
    "from sklearn.preprocessing import LabelEncoder, StandardScaler\n",
    "from sklearn.metrics import accuracy_score, precision_score, recall_score, f1_score\n",
    "from sklearn.ensemble import RandomForestClassifier\n",
    "from sklearn.svm import SVC\n",
    "from sklearn.neighbors import KNeighborsClassifier\n",
    "from sklearn.linear_model import LogisticRegression\n",
    "from sklearn.tree import DecisionTreeClassifier\n",
    "from sklearn.naive_bayes import GaussianNB\n",
    "from sklearn.neural_network import MLPClassifier\n",
    "import matplotlib.pyplot as plt\n"
   ]
  },
  {
   "cell_type": "markdown",
   "metadata": {},
   "source": [
    "# Load the dataset\n"
   ]
  },
  {
   "cell_type": "code",
   "execution_count": 6,
   "metadata": {},
   "outputs": [
    {
     "name": "stdout",
     "output_type": "stream",
     "text": [
      "   Sex   Age  Height  Overweight_Obese_Family  Consumption_of_Fast_Food  \\\n",
      "0  2.0  18.0   155.0                      2.0                       2.0   \n",
      "1  2.0  18.0   158.0                      2.0                       2.0   \n",
      "2  2.0  18.0   159.0                      2.0                       2.0   \n",
      "3  2.0  18.0   162.0                      2.0                       2.0   \n",
      "4  2.0  18.0   165.0                      2.0                       1.0   \n",
      "\n",
      "   Frequency_of_Consuming_Vegetables  Number_of_Main_Meals_Daily  \\\n",
      "0                                3.0                         1.0   \n",
      "1                                3.0                         1.0   \n",
      "2                                2.0                         1.0   \n",
      "3                                2.0                         2.0   \n",
      "4                                2.0                         1.0   \n",
      "\n",
      "   Food_Intake_Between_Meals  Smoking  Liquid_Intake_Daily  \\\n",
      "0                        3.0      2.0                  1.0   \n",
      "1                        1.0      2.0                  1.0   \n",
      "2                        3.0      2.0                  3.0   \n",
      "3                        2.0      2.0                  2.0   \n",
      "4                        3.0      2.0                  1.0   \n",
      "\n",
      "   Calculation_of_Calorie_Intake  Physical_Excercise  \\\n",
      "0                            2.0                 3.0   \n",
      "1                            2.0                 1.0   \n",
      "2                            2.0                 2.0   \n",
      "3                            2.0                 1.0   \n",
      "4                            2.0                 3.0   \n",
      "\n",
      "   Schedule_Dedicated_to_Technology  Type_of_Transportation_Used Class  \n",
      "0                               3.0                          4.0  b'2'  \n",
      "1                               3.0                          3.0  b'2'  \n",
      "2                               3.0                          4.0  b'2'  \n",
      "3                               3.0                          4.0  b'2'  \n",
      "4                               3.0                          2.0  b'2'  \n"
     ]
    }
   ],
   "source": [
    "data, meta = arff.loadarff(r'C:\\Users\\Ahmed Ashraf\\Desktop\\archive (3)\\archive (10)\\Obesity_Dataset.arff')\n",
    "df = pd.DataFrame(data)\n",
    "print(df.head())\n"
   ]
  },
  {
   "cell_type": "code",
   "execution_count": 7,
   "metadata": {},
   "outputs": [
    {
     "name": "stdout",
     "output_type": "stream",
     "text": [
      "Sex                                  float64\n",
      "Age                                  float64\n",
      "Height                               float64\n",
      "Overweight_Obese_Family              float64\n",
      "Consumption_of_Fast_Food             float64\n",
      "Frequency_of_Consuming_Vegetables    float64\n",
      "Number_of_Main_Meals_Daily           float64\n",
      "Food_Intake_Between_Meals            float64\n",
      "Smoking                              float64\n",
      "Liquid_Intake_Daily                  float64\n",
      "Calculation_of_Calorie_Intake        float64\n",
      "Physical_Excercise                   float64\n",
      "Schedule_Dedicated_to_Technology     float64\n",
      "Type_of_Transportation_Used          float64\n",
      "Class                                 object\n",
      "dtype: object\n",
      "   Sex   Age  Height  Overweight_Obese_Family  Consumption_of_Fast_Food  \\\n",
      "0  2.0  18.0   155.0                      2.0                       2.0   \n",
      "1  2.0  18.0   158.0                      2.0                       2.0   \n",
      "2  2.0  18.0   159.0                      2.0                       2.0   \n",
      "3  2.0  18.0   162.0                      2.0                       2.0   \n",
      "4  2.0  18.0   165.0                      2.0                       1.0   \n",
      "\n",
      "   Frequency_of_Consuming_Vegetables  Number_of_Main_Meals_Daily  \\\n",
      "0                                3.0                         1.0   \n",
      "1                                3.0                         1.0   \n",
      "2                                2.0                         1.0   \n",
      "3                                2.0                         2.0   \n",
      "4                                2.0                         1.0   \n",
      "\n",
      "   Food_Intake_Between_Meals  Smoking  Liquid_Intake_Daily  \\\n",
      "0                        3.0      2.0                  1.0   \n",
      "1                        1.0      2.0                  1.0   \n",
      "2                        3.0      2.0                  3.0   \n",
      "3                        2.0      2.0                  2.0   \n",
      "4                        3.0      2.0                  1.0   \n",
      "\n",
      "   Calculation_of_Calorie_Intake  Physical_Excercise  \\\n",
      "0                            2.0                 3.0   \n",
      "1                            2.0                 1.0   \n",
      "2                            2.0                 2.0   \n",
      "3                            2.0                 1.0   \n",
      "4                            2.0                 3.0   \n",
      "\n",
      "   Schedule_Dedicated_to_Technology  Type_of_Transportation_Used Class  \n",
      "0                               3.0                          4.0  b'2'  \n",
      "1                               3.0                          3.0  b'2'  \n",
      "2                               3.0                          4.0  b'2'  \n",
      "3                               3.0                          4.0  b'2'  \n",
      "4                               3.0                          2.0  b'2'  \n"
     ]
    }
   ],
   "source": [
    "print(df.dtypes)\n",
    "print(df.head())\n"
   ]
  },
  {
   "cell_type": "code",
   "execution_count": 8,
   "metadata": {},
   "outputs": [],
   "source": [
    "# Convert the byte-encoded 'Class' column to string\n",
    "df['Class'] = df['Class'].str.decode('utf-8')"
   ]
  },
  {
   "cell_type": "code",
   "execution_count": 11,
   "metadata": {},
   "outputs": [
    {
     "name": "stdout",
     "output_type": "stream",
     "text": [
      "   Sex   Age  Height  Overweight_Obese_Family  Consumption_of_Fast_Food  \\\n",
      "0  2.0  18.0   155.0                      2.0                       2.0   \n",
      "1  2.0  18.0   158.0                      2.0                       2.0   \n",
      "2  2.0  18.0   159.0                      2.0                       2.0   \n",
      "3  2.0  18.0   162.0                      2.0                       2.0   \n",
      "4  2.0  18.0   165.0                      2.0                       1.0   \n",
      "\n",
      "   Frequency_of_Consuming_Vegetables  Number_of_Main_Meals_Daily  \\\n",
      "0                                3.0                         1.0   \n",
      "1                                3.0                         1.0   \n",
      "2                                2.0                         1.0   \n",
      "3                                2.0                         2.0   \n",
      "4                                2.0                         1.0   \n",
      "\n",
      "   Food_Intake_Between_Meals  Smoking  Liquid_Intake_Daily  \\\n",
      "0                        3.0      2.0                  1.0   \n",
      "1                        1.0      2.0                  1.0   \n",
      "2                        3.0      2.0                  3.0   \n",
      "3                        2.0      2.0                  2.0   \n",
      "4                        3.0      2.0                  1.0   \n",
      "\n",
      "   Calculation_of_Calorie_Intake  Physical_Excercise  \\\n",
      "0                            2.0                 3.0   \n",
      "1                            2.0                 1.0   \n",
      "2                            2.0                 2.0   \n",
      "3                            2.0                 1.0   \n",
      "4                            2.0                 3.0   \n",
      "\n",
      "   Schedule_Dedicated_to_Technology  Type_of_Transportation_Used  Class  \n",
      "0                               3.0                          4.0      1  \n",
      "1                               3.0                          3.0      1  \n",
      "2                               3.0                          4.0      1  \n",
      "3                               3.0                          4.0      1  \n",
      "4                               3.0                          2.0      1  \n"
     ]
    }
   ],
   "source": [
    "#Encode the 'Class' column to numeric values\n",
    "encoder=LabelEncoder()\n",
    "df['Class']=encoder.fit_transform(df['Class'])\n",
    "print(df.head())\n"
   ]
  },
  {
   "cell_type": "markdown",
   "metadata": {},
   "source": [
    "# Define feature columns and target\n"
   ]
  },
  {
   "cell_type": "code",
   "execution_count": 13,
   "metadata": {},
   "outputs": [],
   "source": [
    "x = df.drop('Class', axis=1)  # Features (all except the target column)\n",
    "y = df['Class']               # Target"
   ]
  },
  {
   "cell_type": "markdown",
   "metadata": {},
   "source": [
    "# Split data into training and testing sets\n"
   ]
  },
  {
   "cell_type": "code",
   "execution_count": 14,
   "metadata": {},
   "outputs": [],
   "source": [
    "x_train, x_test, y_train, y_test = train_test_split(x, y, test_size=0.2, random_state=42)\n"
   ]
  },
  {
   "cell_type": "code",
   "execution_count": 15,
   "metadata": {},
   "outputs": [],
   "source": [
    "#Apply scalling\n",
    "scaler=StandardScaler()\n",
    "x_train=scaler.fit_transform(x_train)\n",
    "x_test=scaler.transform(x_test)"
   ]
  },
  {
   "cell_type": "markdown",
   "metadata": {},
   "source": [
    "# Define the models to test\n"
   ]
  },
  {
   "cell_type": "code",
   "execution_count": 16,
   "metadata": {},
   "outputs": [],
   "source": [
    "models = {\n",
    "    'Random Forest': RandomForestClassifier(),\n",
    "    'SVM': SVC(),\n",
    "    'K-Nearest Neighbors': KNeighborsClassifier(),\n",
    "    'Logistic Regression': LogisticRegression(),\n",
    "    'Decision Tree': DecisionTreeClassifier(),\n",
    "    'Naive Bayes': GaussianNB(),\n",
    "}"
   ]
  },
  {
   "cell_type": "code",
   "execution_count": 20,
   "metadata": {},
   "outputs": [
    {
     "name": "stdout",
     "output_type": "stream",
     "text": [
      "                 Model  Accuracy  Precision    Recall  F1-Score\n",
      "0        Random Forest  0.841615   0.865747  0.827228  0.841617\n",
      "1                  SVM  0.773292   0.810700  0.695836  0.727726\n",
      "2  K-Nearest Neighbors  0.692547   0.649628  0.620208  0.632574\n",
      "3  Logistic Regression  0.739130   0.718913  0.703322  0.709184\n",
      "4        Decision Tree  0.770186   0.766468  0.763034  0.763642\n",
      "5          Naive Bayes  0.416149   0.520976  0.589474  0.408039\n"
     ]
    }
   ],
   "source": [
    "# Dictionary to store results\n",
    "results = {'Model': [], 'Accuracy': [], 'Precision': [], 'Recall': [], 'F1-Score': []}\n",
    "# Evaluate each model\n",
    "for i in models:\n",
    "    obj=models[i]\n",
    "    obj.fit(x_train , y_train)\n",
    "    obj_pred=obj.predict(x_test)\n",
    "    # Calculate metrics\n",
    "    accuracy = accuracy_score(y_test, obj_pred)\n",
    "    precision = precision_score(y_test, obj_pred, average='macro')  # or 'micro', 'weighted'\n",
    "    recall = recall_score(y_test, obj_pred, average='macro')        # or 'micro', 'weighted'\n",
    "    f1 = f1_score(y_test, obj_pred, average='macro')                # or 'micro', 'weighted'\n",
    "    \n",
    "    # Store results in the dictionary\n",
    "    results['Model'].append(i)\n",
    "    results['Accuracy'].append(accuracy)\n",
    "    results['Precision'].append(precision)\n",
    "    results['Recall'].append(recall)\n",
    "    results['F1-Score'].append(f1)\n",
    "    \n",
    "    \n",
    "# Convert results to a DataFrame\n",
    "results_df = pd.DataFrame(results)\n",
    "\n",
    "# Display the results in a table\n",
    "print(results_df)"
   ]
  },
  {
   "cell_type": "code",
   "execution_count": 22,
   "metadata": {},
   "outputs": [
    {
     "data": {
      "image/png": "[encoded data removed]",
      "text/plain": [
       "<Figure size 1500x600 with 4 Axes>"
      ]
     },
     "metadata": {},
     "output_type": "display_data"
    }
   ],
   "source": [
    "# Plotting each metric\n",
    "metrics = ['Accuracy', 'Precision', 'Recall', 'F1-Score']\n",
    "plt.figure(figsize=(15 , 6))\n",
    "\n",
    "for i , metrics in enumerate(metrics):\n",
    "    plt.subplot(2, 3, i + 1)\n",
    "    plt.barh(results_df['Model'], results_df[metrics], color='skyblue')\n",
    "    plt.title(metrics)\n",
    "    plt.xlim(0, 1)\n",
    "    plt.xlabel(metrics)\n",
    "\n",
    "plt.tight_layout()\n",
    "plt.show()"
   ]
  },
  {
   "cell_type": "code",
   "execution_count": null,
   "metadata": {},
   "outputs": [],
   "source": []
  }
 ],
 "metadata": {
  "kernelspec": {
   "display_name": "Python 3",
   "language": "python",
   "name": "python3"
  },
  "language_info": {
   "codemirror_mode": {
    "name": "ipython",
    "version": 3
   },
   "file_extension": ".py",
   "mimetype": "text/x-python",
   "name": "python",
   "nbconvert_exporter": "python",
   "pygments_lexer": "ipython3",
   "version": "3.12.0"
  }
 },
 "nbformat": 4,
 "nbformat_minor": 2
}
