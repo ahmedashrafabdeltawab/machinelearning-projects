{
 "cells": [
  {
   "cell_type": "code",
   "execution_count": 25,
   "metadata": {},
   "outputs": [
    {
     "name": "stdout",
     "output_type": "stream",
     "text": [
      "Overwriting birds_drones.py\n"
     ]
    }
   ],
   "source": [
    "%%writefile birds_drones.py\n",
    "\n",
    "import streamlit as st\n",
    "import numpy as np\n",
    "import cv2\n",
    "from tensorflow.keras.models import load_model\n",
    "from PIL import Image\n",
    "\n",
    "# Set up Streamlit app title\n",
    "st.title(\"Birds vs Drones Classification Application\")\n",
    "\n",
    "st.write(\"Upload an image to classify it as a Bird or Drone.\")\n",
    "\n",
    "# Load the trained model\n",
    "model = load_model(r\"C:\\Users\\Ahmed Ashraf\\Desktop\\birds vs drone.h5\")\n",
    "\n",
    "# File uploader for the image\n",
    "uploaded_image = st.file_uploader(\"Upload an Image\", type=['jpg', 'png', 'jpeg'])\n",
    "\n",
    "if uploaded_image is not None:\n",
    "    # Open the uploaded image\n",
    "    img = Image.open(uploaded_image)\n",
    "    st.image(img, caption=\"Uploaded Image\")  # Display the uploaded image\n",
    "\n",
    "    # 1. Convert image to array\n",
    "    new_image = np.array(img)\n",
    "\n",
    "    # 2. Ensure the image has 3 channels (RGB)\n",
    "    if len(new_image.shape) == 2:  # If grayscale\n",
    "        new_image = cv2.cvtColor(new_image, cv2.COLOR_GRAY2RGB)\n",
    "    elif new_image.shape[2] == 4:  # If RGBA\n",
    "        new_image = cv2.cvtColor(new_image, cv2.COLOR_RGBA2RGB)\n",
    "\n",
    "    # 3. Resize the image to 224x224\n",
    "    new_image = cv2.resize(new_image, (224, 224))\n",
    "\n",
    "    # 4. Normalize the image\n",
    "    new_image = new_image.astype('float32') / 255.0\n",
    "\n",
    "    # 5. Expand dimensions to match model input shape\n",
    "    new_image = np.expand_dims(new_image, axis=0)\n",
    "\n",
    "    # Make a prediction\n",
    "    prediction = model.predict(new_image)\n",
    "    class_labels = [\"Bird\", \"Drone\"]\n",
    "    predicted_class = np.argmax(prediction, axis=1)[0]\n",
    "    predicted_label = class_labels[predicted_class]\n",
    "    confidence = prediction[0][predicted_class] * 100  # Confidence percentage\n",
    "\n",
    "    # Display the result\n",
    "    st.write(f\"**Predicted Class:** {predicted_label}\")\n",
    "    st.write(f\"**Confidence:** {confidence:.2f}%\")\n",
    "\n",
    "    # Display probabilities for both classes\n",
    "    st.write(\"### Class Probabilities:\")\n",
    "    for i, label in enumerate(class_labels):\n",
    "        st.write(f\"{label}: {prediction[0][i] * 100:.2f}%\")\n"
   ]
  },
  {
   "cell_type": "code",
   "execution_count": null,
   "metadata": {},
   "outputs": [],
   "source": []
  }
 ],
 "metadata": {
  "kernelspec": {
   "display_name": "Python 3",
   "language": "python",
   "name": "python3"
  },
  "language_info": {
   "codemirror_mode": {
    "name": "ipython",
    "version": 3
   },
   "file_extension": ".py",
   "mimetype": "text/x-python",
   "name": "python",
   "nbconvert_exporter": "python",
   "pygments_lexer": "ipython3",
   "version": "3.12.0"
  }
 },
 "nbformat": 4,
 "nbformat_minor": 2
}
