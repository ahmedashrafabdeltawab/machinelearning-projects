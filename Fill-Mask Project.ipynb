{
 "cells": [
  {
   "cell_type": "code",
   "execution_count": null,
   "id": "daad9426",
   "metadata": {},
   "outputs": [
    {
     "name": "stdout",
     "output_type": "stream",
     "text": [
      "Overwriting Fill-Mask.py\n"
     ]
    }
   ],
   "source": [
    "%%writefile Fill-Mask.py\n",
    "from transformers import pipeline\n",
    "import streamlit as st \n",
    "st.title('\"Text Completion Assistant: Fill in the Blanks with AI\"') #Add Title \n",
    "input_text = st.text_area(\"Type a Sentence with a Missing Word\") #Text area to write \n",
    "st.markdown(\"Use '[MASK]' to indicate the missing word in your sentence.\")\n",
    "\n",
    "generate = pipeline('fill-mask' , model='bert-base-uncased') #Load Model \n",
    "\n",
    "if st.button(\"Predict Missing Word\"): #Add button \n",
    "    if \"[MASK]\" not in input_text : #Should be [MASK] in the sentence to complete \n",
    "        st.error(\"Please include '[MASK]' in your text to indicate the missing word.\")\n",
    "    else:\n",
    "        st.markdown(\"Prediction\")\n",
    "        predictions = generate(input_text)\n",
    "        for prediction in predictions:\n",
    "            st.write(f\"- {prediction['sequence']} (Confidence: {prediction['score']:.2%})\") #accesses the dictionary returned by the model to extract the generated sequence and its confidence score\n",
    "\n",
    "\n"
   ]
  },
  {
   "cell_type": "code",
   "execution_count": null,
   "id": "854a6387",
   "metadata": {},
   "outputs": [],
   "source": []
  }
 ],
 "metadata": {
  "kernelspec": {
   "display_name": "Python 3",
   "language": "python",
   "name": "python3"
  },
  "language_info": {
   "codemirror_mode": {
    "name": "ipython",
    "version": 3
   },
   "file_extension": ".py",
   "mimetype": "text/x-python",
   "name": "python",
   "nbconvert_exporter": "python",
   "pygments_lexer": "ipython3",
   "version": "3.11.9"
  }
 },
 "nbformat": 4,
 "nbformat_minor": 5
}
